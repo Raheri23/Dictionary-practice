{
 "cells": [
  {
   "cell_type": "code",
   "execution_count": 1,
   "id": "5a989a6b-2be3-4741-8dca-3eb860ff2869",
   "metadata": {},
   "outputs": [
    {
     "ename": "NameError",
     "evalue": "name 'd1' is not defined",
     "output_type": "error",
     "traceback": [
      "\u001b[0;31m---------------------------------------------------------------------------\u001b[0m",
      "\u001b[0;31mNameError\u001b[0m                                 Traceback (most recent call last)",
      "Cell \u001b[0;32mIn[1], line 1\u001b[0m\n\u001b[0;32m----> 1\u001b[0m \u001b[38;5;28mdict\u001b[39m(\u001b[43md1\u001b[49m)\n",
      "\u001b[0;31mNameError\u001b[0m: name 'd1' is not defined"
     ]
    }
   ],
   "source": [
    "dict(d1)"
   ]
  },
  {
   "cell_type": "code",
   "execution_count": 2,
   "id": "f5625ffd-699f-4d04-aa00-3c9ceba2847b",
   "metadata": {},
   "outputs": [
    {
     "data": {
      "text/plain": [
       "dict"
      ]
     },
     "execution_count": 2,
     "metadata": {},
     "output_type": "execute_result"
    }
   ],
   "source": [
    "d={}\n",
    "type(d)"
   ]
  },
  {
   "cell_type": "code",
   "execution_count": 3,
   "id": "a725b6af-8392-459c-a4fd-4cffb91f1282",
   "metadata": {},
   "outputs": [],
   "source": [
    "d2={\"name\": \"sudh\" , \"name\" : \"sudhanshu\"}"
   ]
  },
  {
   "cell_type": "code",
   "execution_count": 4,
   "id": "4cb2666f-74b4-4b8a-ba25-acddcf7a0d9f",
   "metadata": {},
   "outputs": [
    {
     "data": {
      "text/plain": [
       "{'name': 'sudhanshu'}"
      ]
     },
     "execution_count": 4,
     "metadata": {},
     "output_type": "execute_result"
    }
   ],
   "source": [
    "d2"
   ]
  },
  {
   "cell_type": "code",
   "execution_count": 5,
   "id": "989e8729-4ed0-4f12-a4d8-973b5a9ef7c5",
   "metadata": {},
   "outputs": [],
   "source": [
    "d3={232323: \"abc\"}"
   ]
  },
  {
   "cell_type": "code",
   "execution_count": 6,
   "id": "fa98f098-8ecd-4d1d-98b9-b91127dbb65a",
   "metadata": {},
   "outputs": [
    {
     "data": {
      "text/plain": [
       "{232323: 'abc'}"
      ]
     },
     "execution_count": 6,
     "metadata": {},
     "output_type": "execute_result"
    }
   ],
   "source": [
    "d3"
   ]
  },
  {
   "cell_type": "code",
   "execution_count": 7,
   "id": "eb3c164b-ee0f-4543-a66c-56026c99187a",
   "metadata": {},
   "outputs": [],
   "source": [
    "d4={3.5543: \"abc\"}"
   ]
  },
  {
   "cell_type": "code",
   "execution_count": 8,
   "id": "12f4bfa5-acfb-42f5-b0c9-2a086e4f3e76",
   "metadata": {},
   "outputs": [
    {
     "data": {
      "text/plain": [
       "{3.5543: 'abc'}"
      ]
     },
     "execution_count": 8,
     "metadata": {},
     "output_type": "execute_result"
    }
   ],
   "source": [
    "d4"
   ]
  },
  {
   "cell_type": "raw",
   "id": "b0877c6f-d570-41b5-9fbd-46bbfaa2cbd2",
   "metadata": {},
   "source": [
    "d5 = {True : \"abc\"}\n",
    "d5\n"
   ]
  },
  {
   "cell_type": "code",
   "execution_count": 16,
   "id": "dcd226c2-6f99-49ab-85fa-ceebcd0a44a6",
   "metadata": {},
   "outputs": [
    {
     "data": {
      "text/plain": [
       "{3.5543: 'abc'}"
      ]
     },
     "execution_count": 16,
     "metadata": {},
     "output_type": "execute_result"
    }
   ],
   "source": [
    "d4"
   ]
  },
  {
   "cell_type": "code",
   "execution_count": 18,
   "id": "3e69ad43-ee2b-4f0e-b23e-a776c1cf82ce",
   "metadata": {},
   "outputs": [
    {
     "ename": "NameError",
     "evalue": "name 'd5' is not defined",
     "output_type": "error",
     "traceback": [
      "\u001b[0;31m---------------------------------------------------------------------------\u001b[0m",
      "\u001b[0;31mNameError\u001b[0m                                 Traceback (most recent call last)",
      "Cell \u001b[0;32mIn[18], line 1\u001b[0m\n\u001b[0;32m----> 1\u001b[0m \u001b[43md5\u001b[49m\n",
      "\u001b[0;31mNameError\u001b[0m: name 'd5' is not defined"
     ]
    }
   ],
   "source": [
    "d5"
   ]
  },
  {
   "cell_type": "code",
   "execution_count": 19,
   "id": "8782181a-5793-4e9a-b22a-7b742f8b05e1",
   "metadata": {},
   "outputs": [
    {
     "ename": "SyntaxError",
     "evalue": "invalid syntax (3444128162.py, line 1)",
     "output_type": "error",
     "traceback": [
      "\u001b[0;36m  Cell \u001b[0;32mIn[19], line 1\u001b[0;36m\u001b[0m\n\u001b[0;31m    d6={@:\"abc\"}\u001b[0m\n\u001b[0m        ^\u001b[0m\n\u001b[0;31mSyntaxError\u001b[0m\u001b[0;31m:\u001b[0m invalid syntax\n"
     ]
    }
   ],
   "source": [
    "d6={@:\"abc\"}"
   ]
  },
  {
   "cell_type": "code",
   "execution_count": 20,
   "id": "60d07537-09ef-467a-9795-9e716c1300f3",
   "metadata": {},
   "outputs": [
    {
     "ename": "NameError",
     "evalue": "name 'd6' is not defined",
     "output_type": "error",
     "traceback": [
      "\u001b[0;31m---------------------------------------------------------------------------\u001b[0m",
      "\u001b[0;31mNameError\u001b[0m                                 Traceback (most recent call last)",
      "Cell \u001b[0;32mIn[20], line 1\u001b[0m\n\u001b[0;32m----> 1\u001b[0m \u001b[43md6\u001b[49m\n",
      "\u001b[0;31mNameError\u001b[0m: name 'd6' is not defined"
     ]
    }
   ],
   "source": [
    "d6"
   ]
  },
  {
   "cell_type": "code",
   "execution_count": 21,
   "id": "7be32398-1336-4317-a54e-261fadeeb121",
   "metadata": {},
   "outputs": [
    {
     "ename": "TypeError",
     "evalue": "unhashable type: 'list'",
     "output_type": "error",
     "traceback": [
      "\u001b[0;31m---------------------------------------------------------------------------\u001b[0m",
      "\u001b[0;31mTypeError\u001b[0m                                 Traceback (most recent call last)",
      "Cell \u001b[0;32mIn[21], line 1\u001b[0m\n\u001b[0;32m----> 1\u001b[0m d8\u001b[38;5;241m=\u001b[39m{[\u001b[38;5;241m1\u001b[39m,\u001b[38;5;241m2\u001b[39m,\u001b[38;5;241m3\u001b[39m]: \u001b[38;5;124m\"\u001b[39m\u001b[38;5;124mabc\u001b[39m\u001b[38;5;124m\"\u001b[39m}\n",
      "\u001b[0;31mTypeError\u001b[0m: unhashable type: 'list'"
     ]
    }
   ],
   "source": [
    "d8={[1,2,3]: \"abc\"}"
   ]
  },
  {
   "cell_type": "code",
   "execution_count": 22,
   "id": "905c9673-cebf-4f00-8934-4b3dc10e3885",
   "metadata": {},
   "outputs": [],
   "source": [
    "d9={(1,2,3): \"abc\"}"
   ]
  },
  {
   "cell_type": "code",
   "execution_count": 23,
   "id": "15c7cc9b-48ab-461c-8905-0a85d5420927",
   "metadata": {},
   "outputs": [
    {
     "data": {
      "text/plain": [
       "{(1, 2, 3): 'abc'}"
      ]
     },
     "execution_count": 23,
     "metadata": {},
     "output_type": "execute_result"
    }
   ],
   "source": [
    "d9"
   ]
  },
  {
   "cell_type": "code",
   "execution_count": 24,
   "id": "7a7d6200-54f8-4204-b400-89fd3d41841c",
   "metadata": {},
   "outputs": [
    {
     "ename": "TypeError",
     "evalue": "unhashable type: 'set'",
     "output_type": "error",
     "traceback": [
      "\u001b[0;31m---------------------------------------------------------------------------\u001b[0m",
      "\u001b[0;31mTypeError\u001b[0m                                 Traceback (most recent call last)",
      "Cell \u001b[0;32mIn[24], line 1\u001b[0m\n\u001b[0;32m----> 1\u001b[0m d10\u001b[38;5;241m=\u001b[39m{{\u001b[38;5;241m1\u001b[39m,\u001b[38;5;241m2\u001b[39m,\u001b[38;5;241m3\u001b[39m} : \u001b[38;5;124m\"\u001b[39m\u001b[38;5;124mabc\u001b[39m\u001b[38;5;124m\"\u001b[39m}\n",
      "\u001b[0;31mTypeError\u001b[0m: unhashable type: 'set'"
     ]
    }
   ],
   "source": [
    "d10={{1,2,3} : \"abc\"}"
   ]
  },
  {
   "cell_type": "code",
   "execution_count": 25,
   "id": "737d2481-ec9b-46c1-8bed-1063edc90781",
   "metadata": {},
   "outputs": [
    {
     "ename": "TypeError",
     "evalue": "unhashable type: 'dict'",
     "output_type": "error",
     "traceback": [
      "\u001b[0;31m---------------------------------------------------------------------------\u001b[0m",
      "\u001b[0;31mTypeError\u001b[0m                                 Traceback (most recent call last)",
      "Cell \u001b[0;32mIn[25], line 1\u001b[0m\n\u001b[0;32m----> 1\u001b[0m d11\u001b[38;5;241m=\u001b[39m{{\u001b[38;5;124m\"\u001b[39m\u001b[38;5;124mkey\u001b[39m\u001b[38;5;124m\"\u001b[39m: \u001b[38;5;241m234\u001b[39m} : \u001b[38;5;124m\"\u001b[39m\u001b[38;5;124mabc\u001b[39m\u001b[38;5;124m\"\u001b[39m}\n",
      "\u001b[0;31mTypeError\u001b[0m: unhashable type: 'dict'"
     ]
    }
   ],
   "source": [
    "d11={{\"key\": 234} : \"abc\"}"
   ]
  },
  {
   "cell_type": "code",
   "execution_count": null,
   "id": "6447d600-45e9-4010-ae65-8121bc36f9fe",
   "metadata": {},
   "outputs": [],
   "source": [
    "# we can not take dictionary,special characters,list,set as a key in DICTIONARY.\n",
    "#we can only take tuples as a key."
   ]
  },
  {
   "cell_type": "code",
   "execution_count": null,
   "id": "a1e3e78a-7939-46ce-a645-50d2418946c3",
   "metadata": {},
   "outputs": [],
   "source": [
    "#value part\n"
   ]
  },
  {
   "cell_type": "code",
   "execution_count": 26,
   "id": "a0e0eecd-f651-4b2d-bf3b-0def0a9bd418",
   "metadata": {},
   "outputs": [],
   "source": [
    "d12={\"course_name\": [\"data science masters\",\"web dev\",\"java with dsa and system design\"]}"
   ]
  },
  {
   "cell_type": "code",
   "execution_count": 27,
   "id": "b8900503-e4b3-466f-bb02-db49edfe6d1f",
   "metadata": {},
   "outputs": [
    {
     "data": {
      "text/plain": [
       "{'course_name': ['data science masters',\n",
       "  'web dev',\n",
       "  'java with dsa and system design']}"
      ]
     },
     "execution_count": 27,
     "metadata": {},
     "output_type": "execute_result"
    }
   ],
   "source": [
    "d12"
   ]
  },
  {
   "cell_type": "code",
   "execution_count": null,
   "id": "de1591e5-014b-42cc-8f6e-190de9f16d66",
   "metadata": {},
   "outputs": [],
   "source": [
    "#we can take string as key and list as a value.\n"
   ]
  },
  {
   "cell_type": "code",
   "execution_count": 29,
   "id": "3a48c437-910d-4f55-8b6c-2062a0e6cf9a",
   "metadata": {},
   "outputs": [
    {
     "data": {
      "text/plain": [
       "{(1, 2, 3, 4, 5), 'key'}"
      ]
     },
     "execution_count": 29,
     "metadata": {},
     "output_type": "execute_result"
    }
   ],
   "source": [
    "d13={\"key\",(1,2,3,4,5)}\n",
    "d13"
   ]
  },
  {
   "cell_type": "markdown",
   "id": "8378818a-6a71-47f0-a954-1a8dcc9d38c1",
   "metadata": {
    "tags": []
   },
   "source": [
    "# "
   ]
  },
  {
   "cell_type": "code",
   "execution_count": null,
   "id": "99826081-059a-4e76-9893-37e425b4469b",
   "metadata": {},
   "outputs": [],
   "source": [
    "#we can take tuple as a value.\n"
   ]
  },
  {
   "cell_type": "code",
   "execution_count": 30,
   "id": "b5118858-0a62-48cc-a1bf-3b57c13b942e",
   "metadata": {},
   "outputs": [],
   "source": [
    "d14={\"key\": {1,2,3,4,5}}"
   ]
  },
  {
   "cell_type": "code",
   "execution_count": 31,
   "id": "f07fb192-1799-414b-80bf-210a9e9605f4",
   "metadata": {},
   "outputs": [
    {
     "data": {
      "text/plain": [
       "{'key': {1, 2, 3, 4, 5}}"
      ]
     },
     "execution_count": 31,
     "metadata": {},
     "output_type": "execute_result"
    }
   ],
   "source": [
    "d14"
   ]
  },
  {
   "cell_type": "code",
   "execution_count": null,
   "id": "e19c1d6f-c55e-4418-8d71-074712ec640d",
   "metadata": {},
   "outputs": [],
   "source": [
    "#we can also take set as a value in DICTIONARY."
   ]
  },
  {
   "cell_type": "code",
   "execution_count": 32,
   "id": "7c7c492e-bb63-4ddd-8618-bd3caf46e8ed",
   "metadata": {},
   "outputs": [],
   "source": [
    "d15={\"key\": {\"name\":\"sudhanshu\" ,\"class\": \"DSM\"}}"
   ]
  },
  {
   "cell_type": "code",
   "execution_count": 33,
   "id": "7413edb6-e20e-41da-bbdf-ba2f1121b191",
   "metadata": {},
   "outputs": [
    {
     "data": {
      "text/plain": [
       "{'key': {'name': 'sudhanshu', 'class': 'DSM'}}"
      ]
     },
     "execution_count": 33,
     "metadata": {},
     "output_type": "execute_result"
    }
   ],
   "source": [
    "d15"
   ]
  },
  {
   "cell_type": "code",
   "execution_count": null,
   "id": "f3171a70-362b-44ce-b550-a79dec91b4c6",
   "metadata": {},
   "outputs": [],
   "source": [
    "# we can take value as a dictionary inside a DICTIONARY which is called nested dictionary."
   ]
  },
  {
   "cell_type": "code",
   "execution_count": 34,
   "id": "e1a94bdd-7704-4e0d-8799-e4e5a100b3b3",
   "metadata": {},
   "outputs": [],
   "source": [
    "d16={\"batch_name\":[\"data science masters\",\"web dev\",\"jds\"],\"start_date\":(28,14,21), \"mentor_name\" : {\"krish naik\",\"sudhanshu\",\"hitesh\"}}"
   ]
  },
  {
   "cell_type": "code",
   "execution_count": 35,
   "id": "0500ab8b-61f1-4005-9868-4faf6e920479",
   "metadata": {},
   "outputs": [
    {
     "data": {
      "text/plain": [
       "{'batch_name': ['data science masters', 'web dev', 'jds'],\n",
       " 'start_date': (28, 14, 21),\n",
       " 'mentor_name': {'hitesh', 'krish naik', 'sudhanshu'}}"
      ]
     },
     "execution_count": 35,
     "metadata": {},
     "output_type": "execute_result"
    }
   ],
   "source": [
    "d16"
   ]
  },
  {
   "cell_type": "code",
   "execution_count": 36,
   "id": "b815cdd5-a28d-4418-87ea-e4a266cbf5a4",
   "metadata": {},
   "outputs": [],
   "source": [
    "d16[\"timing\"]= (8,8,8)"
   ]
  },
  {
   "cell_type": "code",
   "execution_count": 37,
   "id": "ae1bea17-6a6e-4209-bc5c-c8fded618bc1",
   "metadata": {},
   "outputs": [
    {
     "data": {
      "text/plain": [
       "{'batch_name': ['data science masters', 'web dev', 'jds'],\n",
       " 'start_date': (28, 14, 21),\n",
       " 'mentor_name': {'hitesh', 'krish naik', 'sudhanshu'},\n",
       " 'timing': (8, 8, 8)}"
      ]
     },
     "execution_count": 37,
     "metadata": {},
     "output_type": "execute_result"
    }
   ],
   "source": [
    "d16"
   ]
  },
  {
   "cell_type": "code",
   "execution_count": 38,
   "id": "eeb901bb-37ab-4188-8bcf-961232d7393b",
   "metadata": {},
   "outputs": [
    {
     "data": {
      "text/plain": [
       "['data science masters', 'web dev', 'jds']"
      ]
     },
     "execution_count": 38,
     "metadata": {},
     "output_type": "execute_result"
    }
   ],
   "source": [
    "d16[\"batch_name\"]"
   ]
  },
  {
   "cell_type": "code",
   "execution_count": 41,
   "id": "432f0724-71db-4bd0-ab1b-862d5a010825",
   "metadata": {},
   "outputs": [
    {
     "data": {
      "text/plain": [
       "{'hitesh', 'krish naik', 'sudhanshu'}"
      ]
     },
     "execution_count": 41,
     "metadata": {},
     "output_type": "execute_result"
    }
   ],
   "source": [
    "d16[\"mentor_name\"]"
   ]
  },
  {
   "cell_type": "code",
   "execution_count": 43,
   "id": "ae88aad1-9bcf-43ff-8477-87768df8deab",
   "metadata": {},
   "outputs": [],
   "source": [
    "d16[\"name\"] = \"nilesh\""
   ]
  },
  {
   "cell_type": "markdown",
   "id": "2fef1a3c-d853-4917-85d1-073a999ae1c7",
   "metadata": {},
   "source": [
    "###### "
   ]
  },
  {
   "cell_type": "code",
   "execution_count": 44,
   "id": "53b55064-ce8f-4125-a9a0-40b433b84ee1",
   "metadata": {},
   "outputs": [
    {
     "data": {
      "text/plain": [
       "{'batch_name': ['data science masters', 'web dev', 'jds'],\n",
       " 'start_date': (28, 14, 21),\n",
       " 'mentor_name': {'hitesh', 'krish naik', 'sudhanshu'},\n",
       " 'timing': (8, 8, 8),\n",
       " 'name': 'nilesh'}"
      ]
     },
     "execution_count": 44,
     "metadata": {},
     "output_type": "execute_result"
    }
   ],
   "source": [
    "d16"
   ]
  },
  {
   "cell_type": "code",
   "execution_count": 45,
   "id": "a19d72ac-cfe6-4400-8fa4-2ff55a3e554f",
   "metadata": {},
   "outputs": [
    {
     "data": {
      "text/plain": [
       "'NILESH'"
      ]
     },
     "execution_count": 45,
     "metadata": {},
     "output_type": "execute_result"
    }
   ],
   "source": [
    "d16[\"name\"].upper()"
   ]
  },
  {
   "cell_type": "code",
   "execution_count": 46,
   "id": "f7ebcb1f-bdaf-4b04-bd89-bcd54afa8e02",
   "metadata": {},
   "outputs": [
    {
     "data": {
      "text/plain": [
       "{'key': {'name': 'sudhanshu', 'class': 'DSM'}}"
      ]
     },
     "execution_count": 46,
     "metadata": {},
     "output_type": "execute_result"
    }
   ],
   "source": [
    "d15"
   ]
  },
  {
   "cell_type": "code",
   "execution_count": 47,
   "id": "9a3f9e96-73c4-43ae-b881-f00edcf2d655",
   "metadata": {},
   "outputs": [
    {
     "data": {
      "text/plain": [
       "{'name': 'sudhanshu', 'class': 'DSM'}"
      ]
     },
     "execution_count": 47,
     "metadata": {},
     "output_type": "execute_result"
    }
   ],
   "source": [
    "d15['key']"
   ]
  },
  {
   "cell_type": "code",
   "execution_count": 48,
   "id": "a3656a9e-826c-4678-b533-3190cdd907d6",
   "metadata": {},
   "outputs": [
    {
     "data": {
      "text/plain": [
       "dict"
      ]
     },
     "execution_count": 48,
     "metadata": {},
     "output_type": "execute_result"
    }
   ],
   "source": [
    "type(d15['key'])"
   ]
  },
  {
   "cell_type": "code",
   "execution_count": 49,
   "id": "a128694f-89d3-4b10-b96d-134595c99e9d",
   "metadata": {},
   "outputs": [
    {
     "data": {
      "text/plain": [
       "'DSM'"
      ]
     },
     "execution_count": 49,
     "metadata": {},
     "output_type": "execute_result"
    }
   ],
   "source": [
    "d15['key']['class']"
   ]
  },
  {
   "cell_type": "code",
   "execution_count": 50,
   "id": "c9f207c5-dc8d-4c8f-9aab-c6431179b57f",
   "metadata": {},
   "outputs": [
    {
     "data": {
      "text/plain": [
       "{'key': {'name': 'sudhanshu', 'class': 'DSM'}}"
      ]
     },
     "execution_count": 50,
     "metadata": {},
     "output_type": "execute_result"
    }
   ],
   "source": [
    "d15"
   ]
  },
  {
   "cell_type": "code",
   "execution_count": 51,
   "id": "ea22f33f-ab89-4a54-b592-6d7d345596b4",
   "metadata": {},
   "outputs": [],
   "source": [
    "d15['key1']= \"abc\""
   ]
  },
  {
   "cell_type": "code",
   "execution_count": 52,
   "id": "392dd7ab-bfb9-47d6-a8c8-b4ff05c1d907",
   "metadata": {},
   "outputs": [
    {
     "data": {
      "text/plain": [
       "{'key': {'name': 'sudhanshu', 'class': 'DSM'}, 'key1': 'abc'}"
      ]
     },
     "execution_count": 52,
     "metadata": {},
     "output_type": "execute_result"
    }
   ],
   "source": [
    "d15"
   ]
  },
  {
   "cell_type": "code",
   "execution_count": 54,
   "id": "82af1692-2259-4068-9f30-4d656a82615d",
   "metadata": {},
   "outputs": [],
   "source": [
    "del d15['key1']"
   ]
  },
  {
   "cell_type": "code",
   "execution_count": 55,
   "id": "fd06eecd-9312-405d-a201-1a7067e78872",
   "metadata": {},
   "outputs": [
    {
     "data": {
      "text/plain": [
       "{'key': {'name': 'sudhanshu', 'class': 'DSM'}}"
      ]
     },
     "execution_count": 55,
     "metadata": {},
     "output_type": "execute_result"
    }
   ],
   "source": [
    "d15"
   ]
  },
  {
   "cell_type": "code",
   "execution_count": 59,
   "id": "e1f255cc-6e91-4786-a0b9-0da33184cedb",
   "metadata": {},
   "outputs": [],
   "source": [
    "d15.clear()"
   ]
  },
  {
   "cell_type": "code",
   "execution_count": 60,
   "id": "acaa75fe-713e-4674-affa-89043e4d09a0",
   "metadata": {},
   "outputs": [
    {
     "data": {
      "text/plain": [
       "{}"
      ]
     },
     "execution_count": 60,
     "metadata": {},
     "output_type": "execute_result"
    }
   ],
   "source": [
    "d15"
   ]
  },
  {
   "cell_type": "code",
   "execution_count": 61,
   "id": "d02df44b-6113-4a3b-8624-813467a75ccd",
   "metadata": {},
   "outputs": [
    {
     "data": {
      "text/plain": [
       "5"
      ]
     },
     "execution_count": 61,
     "metadata": {},
     "output_type": "execute_result"
    }
   ],
   "source": [
    "len(d16)"
   ]
  },
  {
   "cell_type": "markdown",
   "id": "da09690f-f769-4866-b75f-07efdadc293d",
   "metadata": {},
   "source": [
    "###### |"
   ]
  },
  {
   "cell_type": "code",
   "execution_count": 62,
   "id": "626fc734-602e-4901-8d13-13b7947093dc",
   "metadata": {},
   "outputs": [
    {
     "data": {
      "text/plain": [
       "{'batch_name': ['data science masters', 'web dev', 'jds'],\n",
       " 'start_date': (28, 14, 21),\n",
       " 'mentor_name': {'hitesh', 'krish naik', 'sudhanshu'},\n",
       " 'timing': (8, 8, 8),\n",
       " 'name': 'nilesh'}"
      ]
     },
     "execution_count": 62,
     "metadata": {},
     "output_type": "execute_result"
    }
   ],
   "source": [
    "d16"
   ]
  },
  {
   "cell_type": "code",
   "execution_count": 63,
   "id": "46d84d5f-67ad-4db5-a008-4e4d722142d9",
   "metadata": {},
   "outputs": [
    {
     "data": {
      "text/plain": [
       "dict_keys(['batch_name', 'start_date', 'mentor_name', 'timing', 'name'])"
      ]
     },
     "execution_count": 63,
     "metadata": {},
     "output_type": "execute_result"
    }
   ],
   "source": [
    "d16.keys()"
   ]
  },
  {
   "cell_type": "code",
   "execution_count": 64,
   "id": "483c85f6-6086-45c1-a6be-69a441255d87",
   "metadata": {},
   "outputs": [
    {
     "data": {
      "text/plain": [
       "dict_values([['data science masters', 'web dev', 'jds'], (28, 14, 21), {'krish naik', 'sudhanshu', 'hitesh'}, (8, 8, 8), 'nilesh'])"
      ]
     },
     "execution_count": 64,
     "metadata": {},
     "output_type": "execute_result"
    }
   ],
   "source": [
    "d16.values()"
   ]
  },
  {
   "cell_type": "code",
   "execution_count": 65,
   "id": "5d0fda61-0804-4a93-b7bc-90d68f3578ba",
   "metadata": {},
   "outputs": [
    {
     "data": {
      "text/plain": [
       "list[dict_keys(['batch_name', 'start_date', 'mentor_name', 'timing', 'name'])]"
      ]
     },
     "execution_count": 65,
     "metadata": {},
     "output_type": "execute_result"
    }
   ],
   "source": [
    "list[d16.keys()]"
   ]
  },
  {
   "cell_type": "raw",
   "id": "aaa74a07-ab3d-4e58-9cc9-0074379ed896",
   "metadata": {},
   "source": [
    "list"
   ]
  },
  {
   "cell_type": "code",
   "execution_count": 67,
   "id": "f7d7fa27-5536-4431-9f6e-9475e25aa560",
   "metadata": {},
   "outputs": [
    {
     "data": {
      "text/plain": [
       "[['data science masters', 'web dev', 'jds'],\n",
       " (28, 14, 21),\n",
       " {'hitesh', 'krish naik', 'sudhanshu'},\n",
       " (8, 8, 8),\n",
       " 'nilesh']"
      ]
     },
     "execution_count": 67,
     "metadata": {},
     "output_type": "execute_result"
    }
   ],
   "source": [
    "list(d16.values())"
   ]
  },
  {
   "cell_type": "code",
   "execution_count": 68,
   "id": "857a1de7-2580-4b10-9fed-93d6274870d4",
   "metadata": {},
   "outputs": [
    {
     "data": {
      "text/plain": [
       "dict_items([('batch_name', ['data science masters', 'web dev', 'jds']), ('start_date', (28, 14, 21)), ('mentor_name', {'krish naik', 'sudhanshu', 'hitesh'}), ('timing', (8, 8, 8)), ('name', 'nilesh')])"
      ]
     },
     "execution_count": 68,
     "metadata": {},
     "output_type": "execute_result"
    }
   ],
   "source": [
    "d16.items()"
   ]
  },
  {
   "cell_type": "code",
   "execution_count": 69,
   "id": "7e248331-de54-40c0-a677-44d425591b6a",
   "metadata": {},
   "outputs": [
    {
     "data": {
      "text/plain": [
       "[('batch_name', ['data science masters', 'web dev', 'jds']),\n",
       " ('start_date', (28, 14, 21)),\n",
       " ('mentor_name', {'hitesh', 'krish naik', 'sudhanshu'}),\n",
       " ('timing', (8, 8, 8)),\n",
       " ('name', 'nilesh')]"
      ]
     },
     "execution_count": 69,
     "metadata": {},
     "output_type": "execute_result"
    }
   ],
   "source": [
    "list(d16.items())"
   ]
  },
  {
   "cell_type": "code",
   "execution_count": 73,
   "id": "e06abf61-5358-4e0d-8da4-195df15bcb20",
   "metadata": {},
   "outputs": [],
   "source": [
    "d17=d16.copy()"
   ]
  },
  {
   "cell_type": "code",
   "execution_count": 74,
   "id": "ad4eca28-d059-430b-a2d0-21ad16af1d0d",
   "metadata": {},
   "outputs": [
    {
     "data": {
      "text/plain": [
       "{'batch_name': ['data science masters', 'web dev', 'jds'],\n",
       " 'start_date': (28, 14, 21),\n",
       " 'mentor_name': {'hitesh', 'krish naik', 'sudhanshu'},\n",
       " 'timing': (8, 8, 8),\n",
       " 'name': 'nilesh'}"
      ]
     },
     "execution_count": 74,
     "metadata": {},
     "output_type": "execute_result"
    }
   ],
   "source": [
    "d17"
   ]
  },
  {
   "cell_type": "code",
   "execution_count": 75,
   "id": "2140240e-bc27-49d2-b35d-2027d994612d",
   "metadata": {},
   "outputs": [],
   "source": [
    "d18= d16"
   ]
  },
  {
   "cell_type": "code",
   "execution_count": 76,
   "id": "db2d072b-bc0c-4db4-a2ac-e1b9ada22abf",
   "metadata": {},
   "outputs": [
    {
     "data": {
      "text/plain": [
       "{'batch_name': ['data science masters', 'web dev', 'jds'],\n",
       " 'start_date': (28, 14, 21),\n",
       " 'mentor_name': {'hitesh', 'krish naik', 'sudhanshu'},\n",
       " 'timing': (8, 8, 8),\n",
       " 'name': 'nilesh'}"
      ]
     },
     "execution_count": 76,
     "metadata": {},
     "output_type": "execute_result"
    }
   ],
   "source": [
    "d18"
   ]
  },
  {
   "cell_type": "code",
   "execution_count": 77,
   "id": "5220c842-db07-4e8e-b441-6cb77e86e351",
   "metadata": {},
   "outputs": [],
   "source": [
    "del d16['name']"
   ]
  },
  {
   "cell_type": "code",
   "execution_count": 78,
   "id": "618f36fe-01dc-42a0-813d-abf2211ecc6d",
   "metadata": {},
   "outputs": [
    {
     "data": {
      "text/plain": [
       "{'batch_name': ['data science masters', 'web dev', 'jds'],\n",
       " 'start_date': (28, 14, 21),\n",
       " 'mentor_name': {'hitesh', 'krish naik', 'sudhanshu'},\n",
       " 'timing': (8, 8, 8)}"
      ]
     },
     "execution_count": 78,
     "metadata": {},
     "output_type": "execute_result"
    }
   ],
   "source": [
    "d16"
   ]
  },
  {
   "cell_type": "code",
   "execution_count": 79,
   "id": "69f4660c-02ea-4231-9f62-e54cd93ae1a5",
   "metadata": {},
   "outputs": [
    {
     "data": {
      "text/plain": [
       "{'batch_name': ['data science masters', 'web dev', 'jds'],\n",
       " 'start_date': (28, 14, 21),\n",
       " 'mentor_name': {'hitesh', 'krish naik', 'sudhanshu'},\n",
       " 'timing': (8, 8, 8),\n",
       " 'name': 'nilesh'}"
      ]
     },
     "execution_count": 79,
     "metadata": {},
     "output_type": "execute_result"
    }
   ],
   "source": [
    "d17"
   ]
  },
  {
   "cell_type": "code",
   "execution_count": 80,
   "id": "c8a9e568-61d9-4bcf-adb8-efc467e97fb9",
   "metadata": {},
   "outputs": [
    {
     "data": {
      "text/plain": [
       "{'batch_name': ['data science masters', 'web dev', 'jds'],\n",
       " 'start_date': (28, 14, 21),\n",
       " 'mentor_name': {'hitesh', 'krish naik', 'sudhanshu'},\n",
       " 'timing': (8, 8, 8)}"
      ]
     },
     "execution_count": 80,
     "metadata": {},
     "output_type": "execute_result"
    }
   ],
   "source": [
    "d18"
   ]
  },
  {
   "cell_type": "code",
   "execution_count": 81,
   "id": "6082a108-ae1b-493c-855c-4a709ae0a7df",
   "metadata": {},
   "outputs": [
    {
     "data": {
      "text/plain": [
       "{'batch_name': ['data science masters', 'web dev', 'jds'],\n",
       " 'start_date': (28, 14, 21),\n",
       " 'mentor_name': {'hitesh', 'krish naik', 'sudhanshu'},\n",
       " 'timing': (8, 8, 8)}"
      ]
     },
     "execution_count": 81,
     "metadata": {},
     "output_type": "execute_result"
    }
   ],
   "source": [
    "d16"
   ]
  },
  {
   "cell_type": "code",
   "execution_count": 82,
   "id": "449a9fe8-c0b1-487d-88b7-76869c35b2ff",
   "metadata": {},
   "outputs": [
    {
     "ename": "TypeError",
     "evalue": "pop expected at least 1 argument, got 0",
     "output_type": "error",
     "traceback": [
      "\u001b[0;31m---------------------------------------------------------------------------\u001b[0m",
      "\u001b[0;31mTypeError\u001b[0m                                 Traceback (most recent call last)",
      "Cell \u001b[0;32mIn[82], line 1\u001b[0m\n\u001b[0;32m----> 1\u001b[0m \u001b[43md16\u001b[49m\u001b[38;5;241;43m.\u001b[39;49m\u001b[43mpop\u001b[49m\u001b[43m(\u001b[49m\u001b[43m)\u001b[49m\n",
      "\u001b[0;31mTypeError\u001b[0m: pop expected at least 1 argument, got 0"
     ]
    }
   ],
   "source": [
    "d16.pop()"
   ]
  },
  {
   "cell_type": "code",
   "execution_count": 83,
   "id": "f043a13d-829a-4c5b-b3da-af2df797e96a",
   "metadata": {},
   "outputs": [
    {
     "data": {
      "text/plain": [
       "(8, 8, 8)"
      ]
     },
     "execution_count": 83,
     "metadata": {},
     "output_type": "execute_result"
    }
   ],
   "source": [
    "d16.pop(\"timing\")"
   ]
  },
  {
   "cell_type": "code",
   "execution_count": 84,
   "id": "533aca3f-36e2-45eb-bd32-a2a3eaf8a746",
   "metadata": {},
   "outputs": [
    {
     "data": {
      "text/plain": [
       "{'batch_name': ['data science masters', 'web dev', 'jds'],\n",
       " 'start_date': (28, 14, 21),\n",
       " 'mentor_name': {'hitesh', 'krish naik', 'sudhanshu'}}"
      ]
     },
     "execution_count": 84,
     "metadata": {},
     "output_type": "execute_result"
    }
   ],
   "source": [
    "d16"
   ]
  },
  {
   "cell_type": "code",
   "execution_count": 86,
   "id": "5e4ed271-a60a-490a-b5f4-a3c6caca9410",
   "metadata": {},
   "outputs": [
    {
     "data": {
      "text/plain": [
       "{'hitesh', 'krish naik', 'sudhanshu'}"
      ]
     },
     "execution_count": 86,
     "metadata": {},
     "output_type": "execute_result"
    }
   ],
   "source": [
    "d16.pop('mentor_name')"
   ]
  },
  {
   "cell_type": "code",
   "execution_count": 87,
   "id": "db4d2f07-712b-4dd6-9e42-3863fd765fd3",
   "metadata": {},
   "outputs": [
    {
     "data": {
      "text/plain": [
       "{'batch_name': ['data science masters', 'web dev', 'jds'],\n",
       " 'start_date': (28, 14, 21)}"
      ]
     },
     "execution_count": 87,
     "metadata": {},
     "output_type": "execute_result"
    }
   ],
   "source": [
    "d16"
   ]
  },
  {
   "cell_type": "code",
   "execution_count": 88,
   "id": "5f959452-0119-4911-817d-ab6868b72a2b",
   "metadata": {},
   "outputs": [
    {
     "data": {
      "text/plain": [
       "{1: ('a', 'b', 'c', 'd'), 2: ('a', 'b', 'c', 'd'), 3: ('a', 'b', 'c', 'd')}"
      ]
     },
     "execution_count": 88,
     "metadata": {},
     "output_type": "execute_result"
    }
   ],
   "source": [
    "d.fromkeys((1,2,3),('a','b','c','d'))"
   ]
  },
  {
   "cell_type": "code",
   "execution_count": 94,
   "id": "bb21a018-ebc0-4d1b-9d91-8b86f336742c",
   "metadata": {},
   "outputs": [],
   "source": [
    "d19={\"key1\": \"value\" , \"key2\":\"value2\"}\n",
    "d20={\"key3\": \"value3\", \"key4\":\"value4\"}"
   ]
  },
  {
   "cell_type": "code",
   "execution_count": 95,
   "id": "8241a487-b422-4539-849b-24107cfc7586",
   "metadata": {},
   "outputs": [
    {
     "data": {
      "text/plain": [
       "({'key1': 'value', 'key2': 'value2'}, {'key3': 'value3', 'key4': 'value4'})"
      ]
     },
     "execution_count": 95,
     "metadata": {},
     "output_type": "execute_result"
    }
   ],
   "source": [
    "(d19,d20)\n"
   ]
  },
  {
   "cell_type": "code",
   "execution_count": 96,
   "id": "a248738d-68c5-4473-8660-aa6161bbe15a",
   "metadata": {},
   "outputs": [],
   "source": [
    "d19.update(d20)"
   ]
  },
  {
   "cell_type": "code",
   "execution_count": 97,
   "id": "9fc9fe91-bf34-404c-86de-13ba43a73054",
   "metadata": {},
   "outputs": [
    {
     "data": {
      "text/plain": [
       "{'key1': 'value', 'key2': 'value2', 'key3': 'value3', 'key4': 'value4'}"
      ]
     },
     "execution_count": 97,
     "metadata": {},
     "output_type": "execute_result"
    }
   ],
   "source": [
    "d19"
   ]
  },
  {
   "cell_type": "code",
   "execution_count": 98,
   "id": "d358c502-a202-4e7a-94cb-f0192405487d",
   "metadata": {},
   "outputs": [
    {
     "data": {
      "text/plain": [
       "{'key3': 'value3', 'key4': 'value4'}"
      ]
     },
     "execution_count": 98,
     "metadata": {},
     "output_type": "execute_result"
    }
   ],
   "source": [
    "d20"
   ]
  },
  {
   "cell_type": "code",
   "execution_count": 99,
   "id": "9c1a22cb-4855-475c-ba74-dda713b55ddc",
   "metadata": {},
   "outputs": [],
   "source": [
    "d20.get(\"sudh\")"
   ]
  },
  {
   "cell_type": "code",
   "execution_count": 100,
   "id": "8d181a33-f909-44ec-b9e0-7a21bf229e78",
   "metadata": {},
   "outputs": [
    {
     "data": {
      "text/plain": [
       "'value3'"
      ]
     },
     "execution_count": 100,
     "metadata": {},
     "output_type": "execute_result"
    }
   ],
   "source": [
    "d20.get(\"key3\")"
   ]
  },
  {
   "cell_type": "code",
   "execution_count": 101,
   "id": "b9c0e3d2-7151-481c-9160-35a5587e0faa",
   "metadata": {},
   "outputs": [
    {
     "ename": "KeyError",
     "evalue": "'sudh'",
     "output_type": "error",
     "traceback": [
      "\u001b[0;31m---------------------------------------------------------------------------\u001b[0m",
      "\u001b[0;31mKeyError\u001b[0m                                  Traceback (most recent call last)",
      "Cell \u001b[0;32mIn[101], line 1\u001b[0m\n\u001b[0;32m----> 1\u001b[0m \u001b[43md20\u001b[49m\u001b[43m[\u001b[49m\u001b[38;5;124;43m\"\u001b[39;49m\u001b[38;5;124;43msudh\u001b[39;49m\u001b[38;5;124;43m\"\u001b[39;49m\u001b[43m]\u001b[49m\n",
      "\u001b[0;31mKeyError\u001b[0m: 'sudh'"
     ]
    }
   ],
   "source": [
    "d20[\"sudh\"]"
   ]
  },
  {
   "cell_type": "code",
   "execution_count": 102,
   "id": "6b8b416f-9037-417a-b35d-2de15c8d3552",
   "metadata": {},
   "outputs": [],
   "source": [
    "#dictionary comprehnsion"
   ]
  },
  {
   "cell_type": "code",
   "execution_count": 106,
   "id": "9cd59acf-73cb-4ed4-80d9-e5dc6b350ca1",
   "metadata": {},
   "outputs": [
    {
     "data": {
      "text/plain": [
       "{1: 1, 2: 2, 3: 3, 4: 4, 5: 5, 6: 6, 7: 7, 8: 8, 9: 9, 10: 10}"
      ]
     },
     "execution_count": 106,
     "metadata": {},
     "output_type": "execute_result"
    }
   ],
   "source": [
    "{i:i for i in range(1,11)}"
   ]
  },
  {
   "cell_type": "code",
   "execution_count": 105,
   "id": "99cd5373-f811-4915-bee2-6cd20532633c",
   "metadata": {},
   "outputs": [
    {
     "data": {
      "text/plain": [
       "[1, 2, 3, 4, 5, 6, 7, 8, 9, 10]"
      ]
     },
     "execution_count": 105,
     "metadata": {},
     "output_type": "execute_result"
    }
   ],
   "source": [
    "list(range(1,11))"
   ]
  },
  {
   "cell_type": "code",
   "execution_count": 108,
   "id": "23e6e39e-d572-43a8-a867-0011238ab90e",
   "metadata": {},
   "outputs": [
    {
     "data": {
      "text/plain": [
       "{1: 1, 2: 4, 3: 9, 4: 16, 5: 25, 6: 36, 7: 49, 8: 64, 9: 81, 10: 100}"
      ]
     },
     "execution_count": 108,
     "metadata": {},
     "output_type": "execute_result"
    }
   ],
   "source": [
    "{i:i**2 for i in range (1,11)}"
   ]
  },
  {
   "cell_type": "code",
   "execution_count": null,
   "id": "0a90d6ce-f177-40b9-8871-40eeac514dbb",
   "metadata": {},
   "outputs": [
    {
     "data": {
      "text/plain": [
       "list[{1: 1, 2: 4, 3: 9, 4: 16, 5: 25, 6: 36, 7: 49, 8: 64, 9: 81, 10: 100}]"
      ]
     },
     "execution_count": 109,
     "metadata": {},
     "output_type": "execute_result"
    }
   ],
   "source": [
    "list[{i:i**2 for i in range (1,11)}]"
   ]
  },
  {
   "cell_type": "code",
   "execution_count": null,
   "id": "89761a57-ec1e-429f-89f0-00ec6dbc7cd5",
   "metadata": {},
   "outputs": [],
   "source": [
    "    "
   ]
  },
  {
   "cell_type": "code",
   "execution_count": 110,
   "id": "a23e52de-2043-4d5a-a76a-6407fbb400c9",
   "metadata": {},
   "outputs": [
    {
     "data": {
      "text/plain": [
       "{1: 11, 2: 12, 3: 13, 4: 14, 5: 15, 6: 16, 7: 17, 8: 18, 9: 19, 10: 20}"
      ]
     },
     "execution_count": 110,
     "metadata": {},
     "output_type": "execute_result"
    }
   ],
   "source": [
    "{i:i+10 for i in range(1,11)}"
   ]
  },
  {
   "cell_type": "code",
   "execution_count": 119,
   "id": "34c19dd5-0454-4719-ba6c-e56d3e134195",
   "metadata": {},
   "outputs": [
    {
     "data": {
      "text/plain": [
       "{1: 0.0,\n",
       " 2: 0.3010299956639812,\n",
       " 3: 0.47712125471966244,\n",
       " 4: 0.6020599913279624,\n",
       " 5: 0.6989700043360189,\n",
       " 6: 0.7781512503836436,\n",
       " 7: 0.8450980400142568,\n",
       " 8: 0.9030899869919435,\n",
       " 9: 0.9542425094393249,\n",
       " 10: 1.0}"
      ]
     },
     "execution_count": 119,
     "metadata": {},
     "output_type": "execute_result"
    }
   ],
   "source": [
    "import math\n",
    "d21={i : math.log10(i) for i in range (1,11)}\n",
    "d21"
   ]
  },
  {
   "cell_type": "code",
   "execution_count": 120,
   "id": "6ef88776-8f7e-4d02-9d5f-79aa10edbd8a",
   "metadata": {},
   "outputs": [
    {
     "data": {
      "text/plain": [
       "{'batch_name': ['data science masters', 'web dev', 'jds'],\n",
       " 'start_date': (28, 14, 21)}"
      ]
     },
     "execution_count": 120,
     "metadata": {},
     "output_type": "execute_result"
    }
   ],
   "source": [
    "d16"
   ]
  },
  {
   "cell_type": "code",
   "execution_count": 115,
   "id": "549b71b6-d1f8-4ba9-9c7b-9ffa3f70b934",
   "metadata": {},
   "outputs": [
    {
     "data": {
      "text/plain": [
       "True"
      ]
     },
     "execution_count": 115,
     "metadata": {},
     "output_type": "execute_result"
    }
   ],
   "source": [
    "'batch_name' in d16"
   ]
  },
  {
   "cell_type": "code",
   "execution_count": 118,
   "id": "120acd40-8c91-4b6a-97f6-c920c198d081",
   "metadata": {},
   "outputs": [
    {
     "data": {
      "text/plain": [
       "{1: 0.0,\n",
       " 2: 0.3010299956639812,\n",
       " 3: 0.47712125471966244,\n",
       " 4: 0.6020599913279624,\n",
       " 5: 0.6989700043360189,\n",
       " 6: 0.7781512503836436,\n",
       " 7: 0.8450980400142568,\n",
       " 8: 0.9030899869919435,\n",
       " 9: 0.9542425094393249,\n",
       " 10: 1.0}"
      ]
     },
     "execution_count": 118,
     "metadata": {},
     "output_type": "execute_result"
    }
   ],
   "source": [
    "d21"
   ]
  },
  {
   "cell_type": "code",
   "execution_count": 124,
   "id": "2e6d86f4-e662-4147-be6b-a0e2a28db9af",
   "metadata": {},
   "outputs": [
    {
     "data": {
      "text/plain": [
       "dict_keys([1, 2, 3, 4, 5, 6, 7, 8, 9, 10])"
      ]
     },
     "execution_count": 124,
     "metadata": {},
     "output_type": "execute_result"
    }
   ],
   "source": [
    "d21.keys()"
   ]
  },
  {
   "cell_type": "code",
   "execution_count": 129,
   "id": "ec75559f-8ca2-44a4-ba56-b5366ac0492a",
   "metadata": {},
   "outputs": [
    {
     "ename": "SyntaxError",
     "evalue": "expected ':' (226723856.py, line 1)",
     "output_type": "error",
     "traceback": [
      "\u001b[0;36m  Cell \u001b[0;32mIn[129], line 1\u001b[0;36m\u001b[0m\n\u001b[0;31m    for i in d21.keys()\u001b[0m\n\u001b[0m                       ^\u001b[0m\n\u001b[0;31mSyntaxError\u001b[0m\u001b[0;31m:\u001b[0m expected ':'\n"
     ]
    }
   ],
   "source": [
    "for i in d21.keys()\n",
    "    if i % 2 == 0 :\n",
    "        print(d21[i])"
   ]
  },
  {
   "cell_type": "code",
   "execution_count": null,
   "id": "d5c7a0b4-4fd8-4a0a-9826-1ed745aadfb2",
   "metadata": {},
   "outputs": [],
   "source": []
  },
  {
   "cell_type": "code",
   "execution_count": null,
   "id": "39265e1f-e55b-4a6e-bcba-efd9fa0b9d59",
   "metadata": {},
   "outputs": [],
   "source": []
  },
  {
   "cell_type": "code",
   "execution_count": null,
   "id": "95bfde69-abdb-43ba-bda1-a7f4933e8f44",
   "metadata": {},
   "outputs": [],
   "source": []
  },
  {
   "cell_type": "code",
   "execution_count": null,
   "id": "b172b652-a430-4831-9798-fa18391ae732",
   "metadata": {},
   "outputs": [],
   "source": []
  }
 ],
 "metadata": {
  "kernelspec": {
   "display_name": "Python 3 (ipykernel)",
   "language": "python",
   "name": "python3"
  },
  "language_info": {
   "codemirror_mode": {
    "name": "ipython",
    "version": 3
   },
   "file_extension": ".py",
   "mimetype": "text/x-python",
   "name": "python",
   "nbconvert_exporter": "python",
   "pygments_lexer": "ipython3",
   "version": "3.10.8"
  }
 },
 "nbformat": 4,
 "nbformat_minor": 5
}
